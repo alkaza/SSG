{
 "cells": [
  {
   "cell_type": "markdown",
   "metadata": {},
   "source": [
    "# Super Simple Gantt (SSG)\n",
    "\n",
    "This python codelet plots Gantt chart through super simple interface.\n",
    "\n",
    "- - -\n",
    "\n",
    "**usage** : *python SSG.py \\[infile.txt\\]*\n",
    "\n",
    "SSG produce ***outfile-[infile].png*** as output. For *infile.txt* format, see the '2. Load Gantt chart data' at below"
   ]
  },
  {
   "cell_type": "markdown",
   "metadata": {},
   "source": [
    "## 1. Import libraries\n",
    "- - -\n",
    "Let's import **sys** and **matplotlib** as below. **sys** is used for accepting command line arguments and **matplotlib** is used for plotting Gantt chart."
   ]
  },
  {
   "cell_type": "code",
   "execution_count": null,
   "metadata": {},
   "outputs": [],
   "source": [
    "import sys\n",
    "import matplotlib.pyplot"
   ]
  },
  {
   "cell_type": "markdown",
   "metadata": {},
   "source": [
    "## 2. Load Gantt chart data\n",
    "- - -\n",
    "SSG takes very simple text data as input. SSG expects that records in the same task-name group are sorted following time-ascending order.\n",
    "\n",
    "The format of text file should follow below form:\n",
    "\n",
    "> \\[task-name\\] \\[start-time\\] \\[end_time\\]\n",
    "\n",
    "> \\[task-name\\] \\[start-time\\] \\[end_time\\]\n",
    "\n",
    "> ...\n",
    "\n",
    "**Example**. *infile.txt*\n",
    "\n",
    "> T1 100000 120000\n",
    "\n",
    "> T2 120000 140000\n",
    "\n",
    "> T1 130000 150000\n",
    "\n",
    "> T2 145000 150000"
   ]
  },
  {
   "cell_type": "code",
   "execution_count": null,
   "metadata": {},
   "outputs": [],
   "source": [
    "infile = open(sys.argv[1], 'r')\n",
    "\n",
    "data = dict()\n",
    "for line in infile:\n",
    "    task_name, start_time, end_time = line.split()\n",
    "    if str(task_name) not in data:\n",
    "        data[str(task_name)] = [[int(start_time), int(end_time) - int(start_time)]]\n",
    "    else:\n",
    "        data[str(task_name)] += [[int(start_time), int(end_time) - int(start_time)]]"
   ]
  },
  {
   "cell_type": "markdown",
   "metadata": {},
   "source": [
    "## 3. Prepare figure\n",
    "- - -\n",
    "For analysis, SSG will plot **1 + [the-number-of-tasks] charts** in output figure.\n",
    "One for Gantt chart, the others for execution time (duration) plots.\n",
    "Below cell prepare figure which has two chart area."
   ]
  },
  {
   "cell_type": "code",
   "execution_count": null,
   "metadata": {},
   "outputs": [],
   "source": [
    "fig = matplotlib.pyplot.figure()\n",
    "\n",
    "Gantt_axis = fig.add_subplot(len(data) + 1, 1, 1)\n",
    "\n",
    "execution_time_axis = []\n",
    "for pos in range(len(data)):\n",
    "    execution_time_axis += [fig.add_subplot(len(data) + 1, 1, pos + 2)]"
   ]
  },
  {
   "cell_type": "markdown",
   "metadata": {},
   "source": [
    "## 4. Draw Gantt chart\n",
    "- - -\n",
    "Draw Gantt chart using input data."
   ]
  },
  {
   "cell_type": "code",
   "execution_count": null,
   "metadata": {},
   "outputs": [],
   "source": [
    "yticks = []\n",
    "ylabels = []\n",
    "yoffset = 10\n",
    "\n",
    "for task_name in data:\n",
    "    Gantt_axis.broken_barh(data[task_name], [yoffset, 9], facecolors='blue')\n",
    "    Gantt_axis.ticklabel_format(useOffset=False, style='plain')\n",
    "    yticks += [yoffset + 5]\n",
    "    ylabels += [task_name]\n",
    "    yoffset += 10\n",
    "\n",
    "Gantt_axis.set_title('Gantt chart')\n",
    "Gantt_axis.set_yticks(yticks)\n",
    "Gantt_axis.set_yticklabels(ylabels)\n",
    "Gantt_axis.grid(True)"
   ]
  },
  {
   "cell_type": "markdown",
   "metadata": {},
   "source": [
    "## 5. Draw execution time (=duration) plot\n",
    "- - -\n",
    "Draw execution time (=duration) plot"
   ]
  },
  {
   "cell_type": "code",
   "execution_count": null,
   "metadata": {},
   "outputs": [],
   "source": [
    "plotidx = 0\n",
    "\n",
    "for task_name in data:\n",
    "    execution_cnt = [k + 1 for k in range(len(data[task_name]))]\n",
    "    execution_time = [execution[1] for execution in data[task_name]]\n",
    "    \n",
    "    execution_time_axis[plotidx].scatter(execution_cnt, execution_time)\n",
    "    execution_time_axis[plotidx].ticklabel_format(useOffset=False, style='plain')\n",
    "        \n",
    "    execution_time_axis[plotidx].set_title('Execution time - ' + task_name)\n",
    "    execution_time_axis[plotidx].set_xticks(execution_cnt)\n",
    "    execution_time_axis[plotidx].grid(True)\n",
    "    \n",
    "    plotidx = plotidx + 1"
   ]
  },
  {
   "cell_type": "markdown",
   "metadata": {},
   "source": [
    "## 6. Plot all\n",
    "- - -\n",
    "Plot a chart for Gantt, [the-number-of-tasks] charts for execution times (=durations)."
   ]
  },
  {
   "cell_type": "code",
   "execution_count": null,
   "metadata": {},
   "outputs": [],
   "source": [
    "fig.tight_layout()\n",
    "fig.savefig('./outfile-' + sys.argv[1] + '.png')"
   ]
  }
 ],
 "metadata": {
  "kernelspec": {
   "display_name": "Python 2",
   "language": "python",
   "name": "python2"
  },
  "language_info": {
   "codemirror_mode": {
    "name": "ipython",
    "version": 2
   },
   "file_extension": ".py",
   "mimetype": "text/x-python",
   "name": "python",
   "nbconvert_exporter": "python",
   "pygments_lexer": "ipython2",
   "version": "2.7.13"
  }
 },
 "nbformat": 4,
 "nbformat_minor": 2
}
